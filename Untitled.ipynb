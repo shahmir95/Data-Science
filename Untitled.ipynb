{
  "metadata": {
    "kernelspec": {
      "name": "python",
      "display_name": "Python (Pyodide)",
      "language": "python"
    },
    "language_info": {
      "codemirror_mode": {
        "name": "python",
        "version": 3
      },
      "file_extension": ".py",
      "mimetype": "text/x-python",
      "name": "python",
      "nbconvert_exporter": "python",
      "pygments_lexer": "ipython3",
      "version": "3.8"
    }
  },
  "nbformat_minor": 5,
  "nbformat": 4,
  "cells": [
    {
      "id": "77071ac9-d7e7-4331-8e87-6fa267f42e6c",
      "cell_type": "markdown",
      "source": "# My Data Science Tools Notebook\n",
      "metadata": {}
    },
    {
      "id": "ed14011a-1a24-48c0-b89a-4f9195999b09",
      "cell_type": "markdown",
      "source": "This notebook shows my understanding of various tools and languages used in data science.\n",
      "metadata": {}
    },
    {
      "id": "e4184148-4c7c-459f-88ce-dc34940ee45d",
      "cell_type": "markdown",
      "source": "## Data Science Languages:\n- Python  \n- R  \n- SQL  \n- Julia  \n- Scala\n",
      "metadata": {}
    },
    {
      "id": "251e27a4-77ef-4563-b83e-37dedea0bf21",
      "cell_type": "markdown",
      "source": "## Data Science Libraries:\n- Pandas  \n- NumPy  \n- Scikit-learn  \n- Matplotlib  \n- TensorFlow\n",
      "metadata": {}
    },
    {
      "id": "1b6488e5-a3a0-4d2b-acea-3025d6cad9c0",
      "cell_type": "markdown",
      "source": "## Data Science Tools:\n\n| Tool           | Category         |\n|----------------|------------------|\n| Jupyter Notebook | IDE/Notebook     |\n| RStudio        | IDE              |\n| Apache Spark   | Big Data         |\n| TensorFlow     | Machine Learning |\n",
      "metadata": {}
    },
    {
      "id": "a957a680-911a-4952-b2d2-be3dba62dd65",
      "cell_type": "markdown",
      "source": "Below are examples of simple arithmetic expressions using Python.\n",
      "metadata": {}
    },
    {
      "id": "d4b3933e-dd5d-4cae-aa32-7aae6eea728f",
      "cell_type": "code",
      "source": "(5 * 4) + 2",
      "metadata": {
        "trusted": true
      },
      "outputs": [
        {
          "execution_count": 3,
          "output_type": "execute_result",
          "data": {
            "text/plain": "22"
          },
          "metadata": {}
        }
      ],
      "execution_count": 3
    },
    {
      "id": "2b04491e-b1ea-4f68-b102-8c02dc3e657f",
      "cell_type": "code",
      "source": "",
      "metadata": {
        "trusted": true
      },
      "outputs": [],
      "execution_count": null
    }
  ]
}