{
  "metadata": {
    "kernelspec": {
      "name": "python",
      "display_name": "Python (Pyodide)",
      "language": "python"
    },
    "language_info": {
      "codemirror_mode": {
        "name": "python",
        "version": 3
      },
      "file_extension": ".py",
      "mimetype": "text/x-python",
      "name": "python",
      "nbconvert_exporter": "python",
      "pygments_lexer": "ipython3",
      "version": "3.8"
    }
  },
  "nbformat_minor": 5,
  "nbformat": 4,
  "cells": [
    {
      "id": "77071ac9-d7e7-4331-8e87-6fa267f42e6c",
      "cell_type": "markdown",
      "source": "# My Data Science Tools Notebook\n",
      "metadata": {}
    },
    {
      "id": "ed14011a-1a24-48c0-b89a-4f9195999b09",
      "cell_type": "markdown",
      "source": "This notebook shows my understanding of various tools and languages used in data science.\n",
      "metadata": {}
    },
    {
      "id": "e4184148-4c7c-459f-88ce-dc34940ee45d",
      "cell_type": "markdown",
      "source": "## Data Science Languages:\n- Python  \n- R  \n- SQL  \n- Julia  \n- Scala\n",
      "metadata": {}
    },
    {
      "id": "251e27a4-77ef-4563-b83e-37dedea0bf21",
      "cell_type": "markdown",
      "source": "## Data Science Libraries:\n- Pandas  \n- NumPy  \n- Scikit-learn  \n- Matplotlib  \n- TensorFlow\n",
      "metadata": {}
    },
    {
      "id": "1b6488e5-a3a0-4d2b-acea-3025d6cad9c0",
      "cell_type": "markdown",
      "source": "## Data Science Tools:\n\n| Tool           | Category         |\n|----------------|------------------|\n| Jupyter Notebook | IDE/Notebook     |\n| RStudio        | IDE              |\n| Apache Spark   | Big Data         |\n| TensorFlow     | Machine Learning |\n",
      "metadata": {}
    },
    {
      "id": "a957a680-911a-4952-b2d2-be3dba62dd65",
      "cell_type": "markdown",
      "source": "Below are examples of simple arithmetic expressions using Python.\n",
      "metadata": {}
    },
    {
      "id": "494b291b-0b5f-4d20-82dd-6cc47b3e2e93",
      "cell_type": "code",
      "source": "(5 * 4) + 2",
      "metadata": {
        "trusted": true
      },
      "outputs": [
        {
          "execution_count": 5,
          "output_type": "execute_result",
          "data": {
            "text/plain": "22"
          },
          "metadata": {}
        }
      ],
      "execution_count": 5
    },
    {
      "id": "2b04491e-b1ea-4f68-b102-8c02dc3e657f",
      "cell_type": "code",
      "source": "200 / 60",
      "metadata": {
        "trusted": true
      },
      "outputs": [
        {
          "execution_count": 4,
          "output_type": "execute_result",
          "data": {
            "text/plain": "3.3333333333333335"
          },
          "metadata": {}
        }
      ],
      "execution_count": 4
    },
    {
      "id": "c4109b0a-ca8c-482d-a95e-e5e5a79cea13",
      "cell_type": "markdown",
      "source": "## Objectives of this Notebook:\n- List popular languages used in Data Science\n- List commonly used libraries in Data Science\n- Create and execute basic arithmetic expressions in Python\n- Understand how to present data using Markdown and tables\n",
      "metadata": {}
    },
    {
      "id": "84cc377a-c818-4103-bd31-703cf182e8cc",
      "cell_type": "markdown",
      "source": "**Author:** MOHAMMAD SHAHMIR\n",
      "metadata": {}
    }
  ]
}